{
 "cells": [
  {
   "cell_type": "markdown",
   "metadata": {},
   "source": [
    "# Welcome to the OnSSET Notebook\n",
    "\n",
    "This Jupyter based interface is built on the [OnSSET](http://www.onsset.org/) tool developed to provide an easy and quick way to generate electrification investment scenarios."
   ]
  },
  {
   "cell_type": "markdown",
   "metadata": {},
   "source": [
    "#### Start by importing the code "
   ]
  },
  {
   "cell_type": "code",
   "execution_count": 1,
   "metadata": {},
   "outputs": [],
   "source": [
    "from onsset import *\n",
    "from IPython.display import display, Markdown, HTML\n",
    "%matplotlib inline\n",
    "%run funcs.ipynb\n",
    "import warnings\n",
    "warnings.filterwarnings('ignore')"
   ]
  },
  {
   "cell_type": "code",
   "execution_count": 2,
   "metadata": {},
   "outputs": [],
   "source": [
    "import matplotlib.pylab as plt\n",
    "import seaborn as sns"
   ]
  },
  {
   "cell_type": "markdown",
   "metadata": {},
   "source": [
    "# 1. GIS data selection\n",
    "\n",
    "First, run the cell below to browse to the directory your input CSV file is located at and select the input file. "
   ]
  },
  {
   "cell_type": "code",
   "execution_count": 3,
   "metadata": {},
   "outputs": [
    {
     "name": "stdout",
     "output_type": "stream",
     "text": [
      "Admin_1 contains null values. Check the input file!\n"
     ]
    }
   ],
   "source": [
    "import tkinter as tk\n",
    "from tkinter import filedialog, messagebox\n",
    "root = tk.Tk()\n",
    "root.withdraw()\n",
    "root.attributes(\"-topmost\", True)\n",
    "messagebox.showinfo('OnSSET', 'Open the input file with extracted GIS data')\n",
    "input_file = filedialog.askopenfilename()\n",
    "\n",
    "onsseter = SettlementProcessor(input_file)\n",
    "onsseter.conditioning()"
   ]
  },
  {
   "cell_type": "code",
   "execution_count": 4,
   "metadata": {},
   "outputs": [],
   "source": [
    "messagebox.showinfo('OnSSET', 'Open the file with hourly PV data')\n",
    "pv_path = filedialog.askopenfilename()"
   ]
  },
  {
   "cell_type": "code",
   "execution_count": 5,
   "metadata": {},
   "outputs": [],
   "source": [
    "messagebox.showinfo('OnSSET', 'Open the existing MV lines')\n",
    "existing_mv = filedialog.askopenfilename()\n",
    "x_mv_exist, y_mv_exist = onsseter.start_extension_points(existing_mv)"
   ]
  },
  {
   "cell_type": "code",
   "execution_count": 6,
   "metadata": {},
   "outputs": [],
   "source": [
    "messagebox.showinfo('OnSSET', 'Open the planned MV lines')\n",
    "planned_mv = filedialog.askopenfilename()\n",
    "if planned_mv == '':\n",
    "    x_mv_plan = []\n",
    "    y_mv_plan = []\n",
    "else:\n",
    "    x_mv_plan, y_mv_plan = onsseter.start_extension_points(existing_mv)\n",
    "planned_coords = []\n",
    "for i in zip(x_mv_plan, y_mv_plan):\n",
    "    planned_coords.append(i)\n",
    "exist_coords = []\n",
    "for j in zip(x_mv_exist, y_mv_exist):\n",
    "    exist_coords.append(j)\n",
    "diff = [x for x in planned_coords if x not in exist_coords]\n",
    "x_coordinates = x_mv_exist\n",
    "y_coordinates = y_mv_exist\n",
    "for i in diff:\n",
    "    x_coordinates = np.append(x_coordinates, diff[0])      \n",
    "    y_coordinates = np.append(y_coordinates, diff[1]) "
   ]
  },
  {
   "cell_type": "markdown",
   "metadata": {},
   "source": [
    "# 2. Modelling period and target electrification rate\n",
    "\n",
    "Next, define the modelling period and the electrification rate to be achieved by the end of the analysis. Further down you will also define an intermediate year and target."
   ]
  },
  {
   "cell_type": "code",
   "execution_count": 7,
   "metadata": {},
   "outputs": [],
   "source": [
    "start_year = 2023\n",
    "intermediate_year = 2027\n",
    "end_year = 2030\n",
    "\n",
    "intermediate_electrification_rate_target = 0.80 # E.g. 1 for 100% electrification rate or 0.80 for 80% electrification rate\n",
    "end_electrification_rate_target = 1 # E.g. 1 for 100% electrification rate or 0.80 for 80% electrification rate \n",
    "\n",
    "yearsofanalysis = [intermediate_year, end_year]\n",
    "eleclimits = {intermediate_year: intermediate_electrification_rate_target, end_year: end_electrification_rate_target}\n",
    "time_steps = {intermediate_year: intermediate_year-start_year, end_year: end_year-intermediate_year}"
   ]
  },
  {
   "cell_type": "markdown",
   "metadata": {},
   "source": [
    "# 3. Enter country specific data\n",
    "\n",
    "In addition to the options above the user can customize a large number of variables describing the social - economic - technological environment in the selected country. \n",
    "\n",
    "**Note!** Most input values shall represent estimates for the variable valid throughout the modelling period, i.e. **NOT** current values."
   ]
  },
  {
   "cell_type": "markdown",
   "metadata": {},
   "source": [
    "### a. Demographics and Social components"
   ]
  },
  {
   "cell_type": "code",
   "execution_count": 8,
   "metadata": {},
   "outputs": [],
   "source": [
    "pop_start_year = 33000000       ### Write the population in the base year (e.g. 2020) \n",
    "end_year_pop = 38000000         ### Write the expected population in the end year (e.g. 2030) \n",
    "\n",
    "urban_ratio_start_year = 0.34 ### Write the urban population population ratio in the base year (e.g. 2020)\n",
    "urban_ratio_end_year = 0.34     ### Write the urban population population ratio in the end year (e.g. 2030)\n",
    "\n",
    "num_people_per_hh_urban = 4     ### Write the number of people per household expected in the end year (e.g. 2030)\n",
    "num_people_per_hh_rural = 6   ### Write the number of people per household expected in the end year (e.g. 2030)\n",
    "\n",
    "grid_elec_ratio_start_year = 0.42   ### Write the grid electrification rate in the base year (e.g. 2020)\n",
    "grid_urban_elec_ratio = 0.53      ### Write urban grid electrification rate in the base year (e.g. 2020)\n",
    "grid_rural_elec_ratio = 0.06         ### Write rural grid electrification rate in the base year (e.g. 2020)"
   ]
  },
  {
   "cell_type": "markdown",
   "metadata": {},
   "source": [
    "### b. Technology specifications & costs\n",
    "\n",
    "The cell below contains all the information that is used to calculate the levelized costs for all the technologies, including grid. These default values should be updated to reflect the most accurate values in the country. There are currently 6 potential technologies to include in the model:\n",
    " * Grid\n",
    " * \n",
    "PV Hybrid Mini-grid\n",
    " * Wind Mini-grid\n",
    " * Hydro Mini-grid\n",
    " * PV Stand-alone systems\n",
    " * Diesel stand-alone systems"
   ]
  },
  {
   "cell_type": "markdown",
   "metadata": {},
   "source": [
    "#### Centralized grid parameters "
   ]
  },
  {
   "cell_type": "code",
   "execution_count": 9,
   "metadata": {},
   "outputs": [],
   "source": [
    "grid_generation_cost = 0.10                ### This is the grid cost electricity USD/kWh as expected in the end year of the analysis\n",
    "grid_power_plants_capital_cost = 2000      ### The cost in USD/kW is for capacity upgrades of the grid\n",
    "grid_losses = 0.40                         ### The fraction of electricity lost in transmission and distribution (percentage)  \n",
    "\n",
    "annual_new_grid_connections_limit = 9999999 # This is the maximum amount of new households that can be connected to the grid in one year\n",
    "annual_grid_cap_gen_limit = 9999999        # This is the maximum generation capacity (MW) that can be added to the grid in one year"
   ]
  },
  {
   "cell_type": "markdown",
   "metadata": {},
   "source": [
    "#### Off-grid technology parameters"
   ]
  },
  {
   "cell_type": "code",
   "execution_count": 12,
   "metadata": {},
   "outputs": [],
   "source": [
    "min_mg_size = 500             # Minimum number of connections (people) for mini-grids to be considered\n",
    "\n",
    "# Decide whether mini-grids should be allowed to be interconnected to the grid in a later time-step.\n",
    "mg_interconnection = 0         # 0 = NO, 1 = YES"
   ]
  },
  {
   "cell_type": "code",
   "execution_count": 13,
   "metadata": {},
   "outputs": [],
   "source": [
    "diesel_price = 2                    ### This is the diesel price in USD/liter as expected in the end year of the analysis\n",
    "\n",
    "mg_diesel_cost = {'diesel_price': diesel_price,\n",
    "                  'efficiency': 0.33,\n",
    "                  'diesel_truck_consumption': 33.7,\n",
    "                  'diesel_truck_volume': 15000}"
   ]
  },
  {
   "cell_type": "code",
   "execution_count": 14,
   "metadata": {},
   "outputs": [],
   "source": [
    "mg_hydro_capital_cost = {float(\"inf\"): 3000}      ### Mini-grid Hydro capital cost (USD/kW) as expected in the years of the analysis\n",
    "mg_wind_capital_cost = {float(\"inf\"): 3750}                   # Wind turbine capital cost, USD/kW peak power"
   ]
  },
  {
   "cell_type": "code",
   "execution_count": 15,
   "metadata": {},
   "outputs": [],
   "source": [
    "# PV and hybrid mini-grid costs\n",
    "pv_cost = 700                      # PV panel costs including BoS (PV inverter, charge controller) (USD/kW)\n",
    "battery_cost = 200                 # battery capital cost, USD/kWh of storage capacity                    \n",
    "inverter_cost  = 175             # Battery inverter, USD/kW\n",
    "diesel_gen_cost = 465              # diesel generator capital cost, USD/kW rated power\n",
    "\n",
    "max_diesel = 0.5                   # Maximum share of generation that can come from diesel generators (0-1). Set to 0 for fully renewable mini-grids"
   ]
  },
  {
   "cell_type": "code",
   "execution_count": 16,
   "metadata": {},
   "outputs": [],
   "source": [
    "sa_pv_capital_cost_1 = 9620          ### Stand-alone PV capital cost (USD/kW) for household systems under 20 W\n",
    "sa_pv_capital_cost_2 = 8780          ### Stand-alone PV capital cost (USD/kW) for household systems between 21-50 W\n",
    "sa_pv_capital_cost_3 = 6380           ### Stand-alone PV capital cost (USD/kW) for household systems between 51-100 W\n",
    "sa_pv_capital_cost_4 = 4470           ### Stand-alone PV capital cost (USD/kW) for household systems between 101-1000 W\n",
    "sa_pv_capital_cost_5 = 4500           ### Stand-alone PV capital cost (USD/kW) for household systems over 1 kW"
   ]
  },
  {
   "cell_type": "markdown",
   "metadata": {},
   "source": [
    "The cells below contain additional technology specifications"
   ]
  },
  {
   "cell_type": "code",
   "execution_count": 18,
   "metadata": {},
   "outputs": [],
   "source": [
    "grid_discount_rate = 0.08 # E.g. 0.08 means a discount rate of 8%\n",
    "mini_grid_discount_rate = 0.12\n",
    "standalone_discount_rate = 0.15\n",
    "\n",
    "existing_grid_cost_ratio = 0.1        ### The additional cost per round of electrification (percentage) \n",
    "\n",
    "# Transmission and distribution costs\n",
    "hv_line_capacity=132 # kV\n",
    "hv_line_cost=53000 # USD/km\n",
    "\n",
    "mv_line_capacity=33 # kV\n",
    "mv_line_cost = 26000 # USD/kW\n",
    "mv_line_max_length=50 # km\n",
    "mv_line_amperage_limit = 8  # Ampere (A)\n",
    "\n",
    "lv_line_capacity=0.24 #kV\n",
    "lv_line_max_length=0.5 # km\n",
    "lv_line_cost=4250 # USD/km\n",
    "\n",
    "service_transformer_type=50  # kVA (MV/LV)\n",
    "service_transformer_cost=4250  # $/unit\n",
    "max_nodes_per_serv_trans=300  # maximum number of nodes served by each service (MV/LV) transformer\n",
    "\n",
    "hv_mv_transformer_type = 10000 #kVA\n",
    "hv_mv_transformer_cost = 150000 # USD/unit\n",
    "\n",
    "# Centralized grid costs\n",
    "grid_calc = Technology(om_of_td_lines=0.02,\n",
    "                        distribution_losses=grid_losses,\n",
    "                        connection_cost_per_hh=60,\n",
    "                        base_to_peak_load_ratio=0.8,\n",
    "                        capacity_factor=1,\n",
    "                        tech_life=30,\n",
    "                        grid_penalty_ratio=1,\n",
    "                        grid_capacity_investment=grid_power_plants_capital_cost,\n",
    "                        grid_price=grid_generation_cost,\n",
    "                        discount_rate=grid_discount_rate)\n",
    "\n",
    "mg_pv_hybrid_calc = Technology(om_of_td_lines=0.02, \n",
    "                               distribution_losses=0.05, \n",
    "                               connection_cost_per_hh=100, \n",
    "                               capacity_factor=0.5, \n",
    "                               base_to_peak_load_ratio=0.85,\n",
    "                               tech_life=20, \n",
    "                               mini_grid=True,  \n",
    "                               hybrid=True, \n",
    "                               discount_rate=mini_grid_discount_rate)\n",
    "\n",
    "mg_wind_calc = Technology(om_of_td_lines=0.02,\n",
    "                          distribution_losses=0.05,\n",
    "                          connection_cost_per_hh=100,\n",
    "                          base_to_peak_load_ratio=0.85,\n",
    "                          capital_cost=mg_wind_capital_cost,\n",
    "                          om_costs=0.02,\n",
    "                          tech_life=20,\n",
    "                          mini_grid=True,\n",
    "                          discount_rate=mini_grid_discount_rate)\n",
    "\n",
    "# Mini-grid hydro costs\n",
    "mg_hydro_calc = Technology(om_of_td_lines=0.02,\n",
    "                            distribution_losses=0.05,\n",
    "                            connection_cost_per_hh=100,\n",
    "                            base_to_peak_load_ratio=0.85,\n",
    "                            capacity_factor=0.5,\n",
    "                            tech_life=30,\n",
    "                            capital_cost=mg_hydro_capital_cost,\n",
    "                            om_costs=0.02,\n",
    "                            discount_rate=mini_grid_discount_rate)\n",
    "                            \n",
    "\n",
    "# Stand-alone PV costs\n",
    "sa_pv_calc = Technology(base_to_peak_load_ratio=0.9,\n",
    "                        tech_life=15,\n",
    "                        om_costs=0.05,\n",
    "                        capital_cost={0.020: sa_pv_capital_cost_1, \n",
    "                                      0.050: sa_pv_capital_cost_2, \n",
    "                                      0.100: sa_pv_capital_cost_3, \n",
    "                                      1: sa_pv_capital_cost_4, \n",
    "                                      float(\"inf\"): sa_pv_capital_cost_5},\n",
    "                        standalone=True,\n",
    "                        discount_rate=standalone_discount_rate)\n",
    "\n",
    "mg_pv_hybrid_params = {\n",
    "                'min_mg_size_ppl': min_mg_size,  # minimum number of people in settlement for mini-grids to be considered as an option\n",
    "                'diesel_cost': diesel_gen_cost,  # diesel generator capital cost, USD/kW rated power\n",
    "                'discount_rate': mini_grid_discount_rate,\n",
    "                'n_chg': 0.93,  # charge efficiency of battery\n",
    "                'n_dis': 1,  # discharge efficiency of battery\n",
    "                'battery_cost': battery_cost,  # battery capital cost, USD/kWh of storage capacity\n",
    "                'pv_cost': pv_cost,  # PV panel capital cost, USD/kW peak power\n",
    "                'charge_controller': 0,  # PV charge controller cost, USD/kW peak power, set to 0 if already included in pv_cost\n",
    "                'pv_inverter': 0,  # PV inverter cost, USD/kW peak power, set to 0 if already included in pv_cost\n",
    "                'pv_life': 25,  # PV panel expected lifetime, years\n",
    "                'diesel_life': 10,  # diesel generator expected lifetime, years\n",
    "                'pv_om': 0.015,  # annual OM cost of PV panels\n",
    "                'diesel_om': 0.1,  # annual OM cost of diesel generator\n",
    "                'battery_inverter_cost': inverter_cost,\n",
    "                'battery_inverter_life': 20,\n",
    "                'dod_max': 0.8,  # maximum depth of discharge of battery\n",
    "                'inv_eff': 0.93,  # inverter_efficiency\n",
    "                'lpsp_max': 0.02,  # maximum loss of load allowed over the year, in share of kWh\n",
    "                'diesel_limit': max_diesel,  # Max annual share of mini-grid generation from diesel gen-set\n",
    "                'full_life_cycles': 2500  # Equivalent full life-cycles of battery until replacement\n",
    "            }"
   ]
  },
  {
   "cell_type": "markdown",
   "metadata": {},
   "source": [
    "### c. Electricity demand target\n",
    "\n",
    "For the second lever, enter the target tier (level of electricity access) for urban and rural households respectively. This can take a value between \"1\" (lowest level of electricity access) and \"5\" (highest level of electricity access) as in ESMAPs Multi-Tier Framework for Measuring Electricity Access (found <a href=\"https://www.esmap.org/node/55526\" target=\"_blank\">here</a>). Alternatively, enter \"6\" to use a distribution of the tiers across the country based on poverty levels and GDP according to the methodology found <a href=\"https://www.mdpi.com/1996-1073/12/7/1395\" target=\"_blank\">here</a>.   \n",
    "\n",
    "*On the GEP Explorer, the following three electricity demand targets are used:*\n",
    "\n",
    "*Top down demand target - Low: In this case, all urban clusters are tergeted to reach the current average consumption level of electrified households, and rural settlements are assigned Tier 1.* \n",
    "\n",
    "*Top down demand target - High: In this case, all urban clusters are tergeted to reach one Tier higher than the current average consumption level of electrified households, and rural settlements are assigned Tier 3.*\n",
    "\n",
    "*Bottom up demand target (Poverty - GDP): In this case each settlement is assigned a demand target based on poverty and GDP levels as described in the methodology above. Choose \"6\" for both the urban_target_tier and rural_target_tier to use this option* "
   ]
  },
  {
   "cell_type": "code",
   "execution_count": 19,
   "metadata": {},
   "outputs": [],
   "source": [
    "# Define the annual household electricity targets to choose from\n",
    "tier_1 = 38.7  # 38.7 refers to kWh/household/year. \n",
    "tier_2 = 219\n",
    "tier_3 = 803\n",
    "tier_4 = 2117\n",
    "tier_5 = 3000"
   ]
  },
  {
   "cell_type": "code",
   "execution_count": 20,
   "metadata": {},
   "outputs": [],
   "source": [
    "urban_target_tier = 4\n",
    "rural_target_tier = 2"
   ]
  },
  {
   "cell_type": "code",
   "execution_count": 21,
   "metadata": {},
   "outputs": [],
   "source": [
    "productive_demand = 1                     # 1 if productive demand is defined and should be included, else 0"
   ]
  },
  {
   "cell_type": "markdown",
   "metadata": {},
   "source": [
    "### d. Rollout plan\n",
    "This lever reflects the electrification approach to be examined. On the GEP Explorer, there are currently two options in use:\n",
    "\n",
    "**Nationwide Least Cost approach:** This options aims to achieve the electrification rate targets set for the intermediate and end year. For the years where the target is set below 100%, the algorithm prioritizes grid densification first (ramp up in already electrified clusters) then selection based on lowest invetsment cost per capita to choose which clusters to be electrified.\n",
    "\n",
    "**Forced grid approach:** Forced grid under a defined buffer zone (auto_intensification set equal to X km) & least cost approach outside of the buffer zone."
   ]
  },
  {
   "cell_type": "code",
   "execution_count": 22,
   "metadata": {},
   "outputs": [],
   "source": [
    "auto_intensification = 5        # Buffer distance (km) for automatic intensification\n",
    "\n",
    "max_grid_intensification_cost = 2000  # Maximum cost per household (USD/household) for forced grid intensification "
   ]
  },
  {
   "cell_type": "markdown",
   "metadata": {},
   "source": [
    "# 4. Calibration of start year values and general information\n",
    "\n",
    "The following steps calibrate the start year conditions in the country in terms of population and current electrification rate, and also adds some additional useful information to be used in the further calculations. If you have retrieved the input file from Energydata.info some of these steps are already completed, and you may skip those cells below where there is a note. "
   ]
  },
  {
   "cell_type": "code",
   "execution_count": 24,
   "metadata": {},
   "outputs": [
    {
     "data": {
      "text/markdown": [
       "#### The csv file has been imported correctly. Here is a preview:"
      ],
      "text/plain": [
       "<IPython.core.display.Markdown object>"
      ]
     },
     "metadata": {},
     "output_type": "display_data"
    },
    {
     "data": {
      "text/html": [
       "<div>\n",
       "<style scoped>\n",
       "    .dataframe tbody tr th:only-of-type {\n",
       "        vertical-align: middle;\n",
       "    }\n",
       "\n",
       "    .dataframe tbody tr th {\n",
       "        vertical-align: top;\n",
       "    }\n",
       "\n",
       "    .dataframe thead th {\n",
       "        text-align: right;\n",
       "    }\n",
       "</style>\n",
       "<table border=\"1\" class=\"dataframe\">\n",
       "  <thead>\n",
       "    <tr style=\"text-align: right;\">\n",
       "      <th></th>\n",
       "      <th>Country</th>\n",
       "      <th>Pop</th>\n",
       "      <th>GridCellArea</th>\n",
       "      <th>NightLights</th>\n",
       "      <th>TravelHours</th>\n",
       "      <th>GHI</th>\n",
       "      <th>WindVel</th>\n",
       "      <th>CurrentMVLineDist</th>\n",
       "    </tr>\n",
       "  </thead>\n",
       "  <tbody>\n",
       "    <tr>\n",
       "      <th>328700</th>\n",
       "      <td>Mozambique</td>\n",
       "      <td>5.964</td>\n",
       "      <td>0.018</td>\n",
       "      <td>0.276954</td>\n",
       "      <td>13.416667</td>\n",
       "      <td>1913.0</td>\n",
       "      <td>2.946460</td>\n",
       "      <td>11.623946</td>\n",
       "    </tr>\n",
       "    <tr>\n",
       "      <th>248232</th>\n",
       "      <td>Mozambique</td>\n",
       "      <td>3.011</td>\n",
       "      <td>0.009</td>\n",
       "      <td>0.290517</td>\n",
       "      <td>0.933333</td>\n",
       "      <td>1932.0</td>\n",
       "      <td>1.416086</td>\n",
       "      <td>6.842336</td>\n",
       "    </tr>\n",
       "    <tr>\n",
       "      <th>196950</th>\n",
       "      <td>Mozambique</td>\n",
       "      <td>3.598</td>\n",
       "      <td>0.018</td>\n",
       "      <td>0.281719</td>\n",
       "      <td>6.266667</td>\n",
       "      <td>1999.0</td>\n",
       "      <td>2.586454</td>\n",
       "      <td>14.676100</td>\n",
       "    </tr>\n",
       "    <tr>\n",
       "      <th>410754</th>\n",
       "      <td>Mozambique</td>\n",
       "      <td>3.428</td>\n",
       "      <td>0.009</td>\n",
       "      <td>0.328839</td>\n",
       "      <td>5.733333</td>\n",
       "      <td>1955.0</td>\n",
       "      <td>1.788778</td>\n",
       "      <td>23.418028</td>\n",
       "    </tr>\n",
       "    <tr>\n",
       "      <th>633363</th>\n",
       "      <td>Mozambique</td>\n",
       "      <td>12.114</td>\n",
       "      <td>0.045</td>\n",
       "      <td>0.264176</td>\n",
       "      <td>13.800000</td>\n",
       "      <td>1993.0</td>\n",
       "      <td>1.988236</td>\n",
       "      <td>16.988850</td>\n",
       "    </tr>\n",
       "    <tr>\n",
       "      <th>12144</th>\n",
       "      <td>Mozambique</td>\n",
       "      <td>3.116</td>\n",
       "      <td>0.009</td>\n",
       "      <td>0.278789</td>\n",
       "      <td>6.300000</td>\n",
       "      <td>2077.0</td>\n",
       "      <td>2.356592</td>\n",
       "      <td>45.142404</td>\n",
       "    </tr>\n",
       "    <tr>\n",
       "      <th>390189</th>\n",
       "      <td>Mozambique</td>\n",
       "      <td>4.258</td>\n",
       "      <td>0.009</td>\n",
       "      <td>0.296452</td>\n",
       "      <td>7.750000</td>\n",
       "      <td>1937.0</td>\n",
       "      <td>1.798035</td>\n",
       "      <td>15.690765</td>\n",
       "    </tr>\n",
       "  </tbody>\n",
       "</table>\n",
       "</div>"
      ],
      "text/plain": [
       "           Country     Pop  GridCellArea  NightLights  TravelHours     GHI  \\\n",
       "328700  Mozambique   5.964         0.018     0.276954    13.416667  1913.0   \n",
       "248232  Mozambique   3.011         0.009     0.290517     0.933333  1932.0   \n",
       "196950  Mozambique   3.598         0.018     0.281719     6.266667  1999.0   \n",
       "410754  Mozambique   3.428         0.009     0.328839     5.733333  1955.0   \n",
       "633363  Mozambique  12.114         0.045     0.264176    13.800000  1993.0   \n",
       "12144   Mozambique   3.116         0.009     0.278789     6.300000  2077.0   \n",
       "390189  Mozambique   4.258         0.009     0.296452     7.750000  1937.0   \n",
       "\n",
       "         WindVel  CurrentMVLineDist  \n",
       "328700  2.946460          11.623946  \n",
       "248232  1.416086           6.842336  \n",
       "196950  2.586454          14.676100  \n",
       "410754  1.788778          23.418028  \n",
       "633363  1.988236          16.988850  \n",
       "12144   2.356592          45.142404  \n",
       "390189  1.798035          15.690765  "
      ]
     },
     "metadata": {},
     "output_type": "display_data"
    }
   ],
   "source": [
    "onsseter.df.loc[onsseter.df[SET_URBAN] == 0, SET_NUM_PEOPLE_PER_HH] = num_people_per_hh_rural\n",
    "onsseter.df.loc[onsseter.df[SET_URBAN] == 1, SET_NUM_PEOPLE_PER_HH] = num_people_per_hh_rural\n",
    "onsseter.df.loc[onsseter.df[SET_URBAN] == 2, SET_NUM_PEOPLE_PER_HH] = num_people_per_hh_urban\n",
    "\n",
    "pop_modelled, urban_modelled = onsseter.calibrate_current_pop_and_urban(pop_start_year, urban_ratio_start_year)\n",
    "onsseter.project_pop_and_urban(end_year_pop, urban_ratio_end_year, start_year, yearsofanalysis)\n",
    "onsseter.df[SET_WINDCF] = onsseter.calc_wind_cfs(onsseter.df[SET_WINDVEL])\n",
    "\n",
    "display(Markdown('#### The csv file has been imported correctly. Here is a preview:'))\n",
    "display(onsseter.df[['Country','Pop', 'GridCellArea', 'NightLights', 'TravelHours', 'GHI', 'WindVel', 'CurrentMVLineDist']].sample(7))"
   ]
  },
  {
   "cell_type": "markdown",
   "metadata": {},
   "source": [
    "#### Calibration of currently grid-electrified settlements\n",
    "\n",
    "The model calibrates which settlements are likely to be electrified in the start year, to match the national statistical values defined above. A settlement is considered to be electrified if it meets all of the following conditions:\n",
    "- Has more night-time lights than the defined threshold (this is set to 0 by default. Set to -1 to disregard NTL completely)\n",
    "- Is closer to the existing grid network than the distance limit\n",
    "- Has more population than the threshold\n",
    "\n",
    "First, define the threshold limits. Then run the calibration and check if the results seem okay. Else, redefine these thresholds and run again."
   ]
  },
  {
   "cell_type": "code",
   "execution_count": 25,
   "metadata": {},
   "outputs": [
    {
     "name": "stdout",
     "output_type": "stream",
     "text": [
      "Calibrating using MV lines\n",
      "The national modelled grid electrification rate is 0.42.\n",
      "The modelled urban grid elec. rate is 0.86.\n",
      "The modelled rural grid elec. rate is 0.2\n"
     ]
    }
   ],
   "source": [
    "min_night_lights = 0.05    ### 0 Indicates no night light, while any number above refers to the night-lights intensity\n",
    "min_pop = 50      ### Settlement population above which we can assume that it could be electrified\n",
    "\n",
    "max_service_transformer_distance = 2    ### Distance  in km from the existing grid network below which we can assume a settlement could be electrified\n",
    "max_mv_line_distance = 1\n",
    "max_hv_line_distance = 5\n",
    "\n",
    "elec_modelled, urban_internal_elec_ratio, rural_internal_elec_ratio, *_ = onsseter.calibrate_grid_elec_current(grid_elec_ratio_start_year, \n",
    "                                                                                                       grid_urban_elec_ratio, \n",
    "                                                                                                       grid_rural_elec_ratio, \n",
    "                                                                                                       start_year,\n",
    "                                                                                                       min_night_lights=min_night_lights, \n",
    "                                                                                                       min_pop=min_pop, \n",
    "                                                                                                       max_transformer_dist=max_service_transformer_distance, \n",
    "                                                                                                       max_mv_dist=max_mv_line_distance, \n",
    "                                                                                                       max_hv_dist=max_hv_line_distance,\n",
    "                                                                                                       buffer=False) \n"
   ]
  },
  {
   "cell_type": "code",
   "execution_count": 26,
   "metadata": {},
   "outputs": [
    {
     "name": "stdout",
     "output_type": "stream",
     "text": [
      "The national modelled mini-grid electrification rate is 0.0\n",
      "The modelled national electrification rate is 0.42\n"
     ]
    }
   ],
   "source": [
    "mg_dist = 1   # Distance from existing mini-grids to consider settlements connected to the mini-grid\n",
    "mg_ntl = 0   # Night-time light threshold to consider a settlement mini-grid electrified, in combination with mg_dist. 0 means NTL is not required, any higher value means a higher cut-off for settlements with NTL within dist is electrified\n",
    "\n",
    "onsseter.df.loc[onsseter.df['FinalElecCode' + '{}'.format(start_year)] == 5, 'ElecStart'] = 0\n",
    "onsseter.df.loc[onsseter.df['FinalElecCode' + '{}'.format(start_year)] == 5, 'FinalElecCode' + '{}'.format(start_year)] = 99\n",
    "onsseter.df.loc[onsseter.df['FinalElecCode' + '{}'.format(start_year)] == 5, 'ElecPopCalib'] = 0\n",
    "onsseter.df.loc[onsseter.df['FinalElecCode' + '{}'.format(start_year)] == 5, 'ElecPop' + '{}'.format(start_year)] = 0\n",
    "\n",
    "onsseter.df.loc[(onsseter.df['FinalElecCode' + '{}'.format(start_year)] != 1) & (onsseter.df['NightLights'] >= mg_ntl) & \n",
    "                (onsseter.df['MGDist'] < mg_dist), 'ElecStart'] = 1\n",
    "onsseter.df.loc[(onsseter.df['FinalElecCode' + '{}'.format(start_year)] != 1) & (onsseter.df['NightLights'] >= mg_ntl) & \n",
    "                (onsseter.df['MGDist'] < mg_dist), 'FinalElecCode' + '{}'.format(start_year)] = 5\n",
    "onsseter.df.loc[(onsseter.df['FinalElecCode' + '{}'.format(start_year)] != 1) & (onsseter.df['NightLights'] >= mg_ntl) & \n",
    "                (onsseter.df['MGDist'] < mg_dist), 'ElecPopCalib'] = onsseter.df['PopStartYear']\n",
    "onsseter.df['ElecPop' + '{}'.format(start_year)] = onsseter.df['ElecPopCalib']\n",
    "\n",
    "mg_pop = onsseter.df.loc[onsseter.df['FinalElecCode' + '{}'.format(start_year)] == 5, 'PopStartYear'].sum() / onsseter.df['PopStartYear'].sum()\n",
    "\n",
    "print('The national modelled mini-grid electrification rate is {}'.format(round(mg_pop, 3)))\n",
    "print('The modelled national electrification rate is {}'.format(round(mg_pop + elec_modelled, 3)))"
   ]
  },
  {
   "cell_type": "markdown",
   "metadata": {},
   "source": [
    "#### Visualization"
   ]
  },
  {
   "cell_type": "markdown",
   "metadata": {},
   "source": [
    "The figure below show the results of the calibration. Settlements in **blue** are considered to be (at least partly) grid-electrified already in the start year of the analysis, settlements in **purple** are considered to be connected to mini-grids at the start of the analysis, while settlements in **grey** are yet to be electrified. Re-running the calibration step with different intial values may change the map below."
   ]
  },
  {
   "cell_type": "code",
   "execution_count": 27,
   "metadata": {},
   "outputs": [
    {
     "data": {
      "image/png": "[encoded data removed]",
      "text/plain": [
       "<Figure size 864x864 with 1 Axes>"
      ]
     },
     "metadata": {
      "needs_background": "light"
     },
     "output_type": "display_data"
    },
    {
     "data": {
      "text/plain": [
       "<Figure size 2160x2160 with 0 Axes>"
      ]
     },
     "metadata": {},
     "output_type": "display_data"
    }
   ],
   "source": [
    "from matplotlib import pyplot as plt\n",
    "colors = ['#D3D3D3','#808080', 'red']\n",
    "plt.figure(figsize=(12,12))\n",
    "plt.plot(onsseter.df.loc[onsseter.df['FinalElecCode' + '{}'.format(start_year)]==99, SET_X_DEG], onsseter.df.loc[onsseter.df['FinalElecCode' + '{}'.format(start_year)]==99, SET_Y_DEG], color='#D3D3D3', marker=',', linestyle='none')\n",
    "plt.plot(onsseter.df.loc[onsseter.df['FinalElecCode' + '{}'.format(start_year)]==1, SET_X_DEG], onsseter.df.loc[onsseter.df['FinalElecCode' + '{}'.format(start_year)]==1, SET_Y_DEG], color='#00008B', marker=',', linestyle='none')\n",
    "plt.plot(onsseter.df.loc[onsseter.df['FinalElecCode' + '{}'.format(start_year)]==5, SET_X_DEG], onsseter.df.loc[onsseter.df['FinalElecCode' + '{}'.format(start_year)]==5, SET_Y_DEG], color='red', marker=',', linestyle='none')\n",
    "if onsseter.df[SET_X_DEG].max() - onsseter.df[SET_X_DEG].min() > onsseter.df[SET_Y_DEG].max() - onsseter.df[SET_Y_DEG].min():\n",
    "    plt.xlim(onsseter.df[SET_X_DEG].min() - 1, onsseter.df[SET_X_DEG].max() + 1)\n",
    "    plt.ylim((onsseter.df[SET_Y_DEG].min()+onsseter.df[SET_Y_DEG].max())/2 - 0.5*abs(onsseter.df[SET_X_DEG].max() - onsseter.df[SET_X_DEG].min()) - 1, (onsseter.df[SET_Y_DEG].min()+onsseter.df[SET_Y_DEG].max())/2 + 0.5*abs(onsseter.df[SET_X_DEG].max() - onsseter.df[SET_X_DEG].min()) + 1)\n",
    "else:\n",
    "    plt.xlim((onsseter.df[SET_X_DEG].min()+onsseter.df[SET_X_DEG].max())/2 - 0.5*abs(onsseter.df[SET_Y_DEG].max() - onsseter.df[SET_Y_DEG].min()) - 1, (onsseter.df[SET_X_DEG].min()+onsseter.df[SET_X_DEG].max())/2 + 0.5*abs(onsseter.df[SET_Y_DEG].max() - onsseter.df[SET_Y_DEG].min()) + 1)\n",
    "    plt.ylim(onsseter.df[SET_Y_DEG].min() -1, onsseter.df[SET_Y_DEG].max() +1)\n",
    "plt.figure(figsize=(30,30))\n",
    "logging.getLogger('matplotlib.font_manager').disabled = True"
   ]
  },
  {
   "cell_type": "markdown",
   "metadata": {},
   "source": [
    "# 5. Start a scenario run, which calculate and compare technology costs for every settlement in the country\n",
    "\n",
    "Based on the previous calculation this piece of code identifies the LCoE that every off-grid technology can provide, for each single populated settlement of the selected country. The cell then takes all the currently grid-connected points in the country, and looks at the points within a certain distance from them, to see if it is more economical to connect them to the grid, or to use one of the off-grid technologies calculated above. Once more points are connected to the grid, the process is repeated, so that new points close to those points might also be connected. This is repeated until there are no new points to connect to the grid."
   ]
  },
  {
   "cell_type": "code",
   "execution_count": null,
   "metadata": {},
   "outputs": [
    {
     "name": "stdout",
     "output_type": "stream",
     "text": [
      "Starting Wed Sep 11 08:31:46 2024\n",
      "Optimize MG Hybrid Systems Wed Sep 11 08:31:51 2024\n",
      "Calculate Off-Grid LCOEs Wed Sep 11 08:36:50 2024\n",
      "Calculate Grid LCOEs Wed Sep 11 08:37:10 2024\n",
      "5  new settlements connected to the grid Wed Sep 11 08:38:08 2024\n",
      "1  new settlements connected to the grid Wed Sep 11 08:38:52 2024\n",
      "Calculating results columns Wed Sep 11 08:39:38 2024\n",
      "The electrification rate achieved in 2027 is 80.0 %\n",
      "\n",
      "Optimize MG Hybrid Systems Wed Sep 11 08:39:51 2024\n",
      "Calculate Off-Grid LCOEs Wed Sep 11 08:44:41 2024\n",
      "Calculate Grid LCOEs Wed Sep 11 08:45:01 2024\n"
     ]
    }
   ],
   "source": [
    "x_coords = x_coordinates * 1\n",
    "y_coords = y_coordinates * 1\n",
    "\n",
    "import time\n",
    "print('Starting', time.ctime())\n",
    "\n",
    "techs = [\"Grid\", \"SA_PV\", \"MG_Diesel\", \"MG_PVHybrid\", \"MG_Wind\", \"MG_Hydro\"]\n",
    "tech_codes = [1, 3, 4, 5, 6, 7]\n",
    "\n",
    "onsseter.prepare_wtf_tier_columns(tier_1, tier_2, tier_3, tier_4, tier_5)\n",
    "\n",
    "onsseter.current_mv_line_dist()\n",
    "\n",
    "onsseter.add_xy_3395()\n",
    "\n",
    "try:\n",
    "    onsseter.df.reset_index(inplace=True)\n",
    "except ValueError:\n",
    "    pass\n",
    "\n",
    "Technology.set_default_values(base_year=start_year, start_year=start_year, end_year=end_year,\n",
    "                             hv_line_type=hv_line_capacity, hv_line_cost=hv_line_cost, mv_line_type=mv_line_capacity,\n",
    "                             mv_line_amperage_limit=mv_line_amperage_limit, mv_line_cost=mv_line_cost, \n",
    "                             lv_line_type=lv_line_capacity, lv_line_cost=lv_line_cost, lv_line_max_length=lv_line_max_length, \n",
    "                             service_transf_type=service_transformer_type, service_transf_cost = service_transformer_cost,\n",
    "                             max_nodes_per_serv_trans=max_nodes_per_serv_trans, hv_mv_sub_station_cost=hv_mv_transformer_cost,\n",
    "                             hv_mv_substation_type=hv_mv_transformer_type)\n",
    "\n",
    "new_lines_geojson = {}\n",
    "\n",
    "for year in yearsofanalysis:\n",
    "        \n",
    "    eleclimit = eleclimits[year]\n",
    "    time_step = time_steps[year]\n",
    "    \n",
    "    grid_connect_limit = time_step * annual_new_grid_connections_limit\n",
    "    grid_cap_gen_limit = time_step * annual_grid_cap_gen_limit * 1000\n",
    "        \n",
    "    onsseter.calculate_demand(year, num_people_per_hh_rural, num_people_per_hh_urban, time_step,\n",
    "                                            urban_target_tier, rural_target_tier)\n",
    "\n",
    "    try:\n",
    "        del onsseter.df[SET_MG_DIESEL_FUEL + \"{}\".format(year)]\n",
    "        del onsseter.df[SET_SA_DIESEL_FUEL + \"{}\".format(year)]\n",
    "    except:\n",
    "        pass\n",
    "    onsseter.diesel_cost_columns(mg_diesel_cost, mg_diesel_cost, year)\n",
    "    mean = onsseter.df[SET_MG_DIESEL_FUEL + \"{}\".format(year)].mean()\n",
    "    onsseter.df[SET_MG_DIESEL_FUEL + \"{}\".format(year)].fillna(mean, inplace=True)\n",
    "        \n",
    "    print('Optimize MG Hybrid Systems', time.ctime())\n",
    "    hybrid_lcoe, hybrid_capacity, hybrid_investment, check = \\\n",
    "                    onsseter.pv_hybrids_lcoe_lookuptable(year, time_step, end_year, mg_pv_hybrid_params, pv_path=pv_path)\n",
    "    hybrid_investment.fillna(0, inplace=True)\n",
    "    hybrid_capacity.fillna(0, inplace=True)\n",
    "\n",
    "    mg_pv_hybrid_calc.hybrid_fuel = hybrid_lcoe\n",
    "    mg_pv_hybrid_calc.hybrid_investment=hybrid_investment\n",
    "    mg_pv_hybrid_calc.hybrid_capacity=hybrid_capacity\n",
    "    \n",
    "    print('Calculate Off-Grid LCOEs', time.ctime())\n",
    "    sa_diesel_investment, sa_diesel_capacity, sa_pv_investment, sa_pv_capacity, mg_diesel_investment, \\\n",
    "            mg_diesel_capacity, mg_pv_hybrid_investment, mg_pv_hybrid_capacity, mg_wind_investment, mg_wind_capacity, \\\n",
    "            mg_hydro_investment, mg_hydro_capacity = onsseter.calculate_off_grid_lcoes(mg_hydro_calc, mg_wind_calc, sa_pv_calc, mg_pv_hybrid_calc,\n",
    "                                                                                       year, end_year, time_step, techs, tech_codes)\n",
    "    \n",
    "    print('Calculate Grid LCOEs', time.ctime())\n",
    "    grid_investment, grid_capacity, grid_cap_gen_limit, grid_connect_limit = \\\n",
    "                onsseter.pre_electrification(grid_generation_cost, year, time_step, end_year, grid_calc,\n",
    "                                             grid_cap_gen_limit, grid_connect_limit)\n",
    "    \n",
    "    onsseter.max_extension_dist(year, time_step, end_year, start_year, grid_calc, max_grid_intensification_cost)\n",
    "\n",
    "    onsseter.pre_selection(eleclimit, year, time_step, 2, auto_intensification)\n",
    "\n",
    "    \n",
    "    onsseter.df[SET_LCOE_GRID + \"{}\".format(year)], onsseter.df[SET_MIN_GRID_DIST + \"{}\".format(year)], \\\n",
    "        grid_investment, grid_capacity, x_coords, y_coords, new_lines_geojson[year] = \\\n",
    "        onsseter.elec_extension_numba(grid_calc, mv_line_max_length, year, start_year, end_year, time_step, grid_cap_gen_limit, grid_connect_limit,\n",
    "                                      x_coords, y_coords, auto_intensification=auto_intensification, prioritization=2, threshold=max_grid_intensification_cost,\n",
    "                                      )\n",
    "    \n",
    "    print('Calculating results columns', time.ctime())\n",
    "    onsseter.results_columns(techs, tech_codes, year, time_step, 2, auto_intensification,\n",
    "                             mg_interconnection)\n",
    "\n",
    "    onsseter.calculate_investments_and_capacity(sa_diesel_investment, sa_diesel_capacity, sa_pv_investment,\n",
    "                                                sa_pv_capacity, mg_diesel_investment, mg_diesel_capacity,\n",
    "                                                mg_pv_hybrid_investment, mg_pv_hybrid_capacity, mg_wind_investment,\n",
    "                                                mg_wind_capacity, mg_hydro_investment, mg_hydro_capacity,\n",
    "                                                grid_investment, grid_capacity, year)\n",
    "\n",
    "    if year == yearsofanalysis[-1]:\n",
    "        final_step = True\n",
    "    else:\n",
    "        final_step = False\n",
    "\n",
    "    onsseter.check_grid_limitations(time_step * annual_new_grid_connections_limit, \n",
    "                                    time_step * annual_grid_cap_gen_limit * 1000, \n",
    "                                    year, time_step, final_step)\n",
    "\n",
    "    onsseter.apply_limitations(eleclimit, year, time_step, 2, auto_intensification)\n",
    "\n",
    "    onsseter.calculate_emission(grid_factor=0, year=year,\n",
    "                                time_step=time_step, start_year=start_year)\n",
    "\n",
    "    onsseter.df.loc[(onsseter.df[SET_ELEC_FINAL_CODE + '{}'.format(year)] == 1) &\n",
    "                        (onsseter.df[SET_ELEC_FINAL_CODE + '{}'.format(start_year)] != 1),\n",
    "                        SET_ELEC_FINAL_CODE + '{}'.format(year)] = 2\n",
    "    print('')\n",
    "    \n",
    "finalize_results(onsseter, yearsofanalysis)"
   ]
  },
  {
   "cell_type": "markdown",
   "metadata": {},
   "source": [
    "# 6. Results, Summaries and Visualization\n",
    "With all the calculations and grid-extensions complete, this block gets the final results on which technology was chosen for each point, how much capacity needs to be installed and what it will cost. Then the summaries, plots and maps are generated."
   ]
  },
  {
   "cell_type": "code",
   "execution_count": null,
   "metadata": {},
   "outputs": [],
   "source": [
    "summary_table, columns = calc_summary_table(onsseter.df)\n",
    "display(Markdown('### Summary \\n These are the summarized results of the selected country'))\n",
    "summary_table"
   ]
  },
  {
   "cell_type": "code",
   "execution_count": null,
   "metadata": {},
   "outputs": [],
   "source": [
    "bar_plot(summary_table, columns)"
   ]
  },
  {
   "cell_type": "code",
   "execution_count": null,
   "metadata": {},
   "outputs": [],
   "source": [
    "map_plot(onsseter.df)"
   ]
  },
  {
   "cell_type": "markdown",
   "metadata": {},
   "source": [
    "## 9. Exporting results\n",
    "\n",
    "This code generates three csv files:\n",
    " - one containing all the results for the scenario created\n",
    " - one containing the summary for the scenario created\n",
    " - one containing some if the key input variables of the scenario\n",
    "\n",
    "Before we proceed, please write the scenario_name in the first cell below. then move on to the next cell and run it to browse to the directory where you want to save your results. Sample file shall be located at .\\ gep-onsset\\sample_output. \n",
    "\n",
    "**Note that if you do not change the scenario name, the previous output files will be overwritten**"
   ]
  },
  {
   "cell_type": "code",
   "execution_count": null,
   "metadata": {},
   "outputs": [],
   "source": [
    "scenario_name = \"scenario_name\""
   ]
  },
  {
   "cell_type": "code",
   "execution_count": null,
   "metadata": {},
   "outputs": [],
   "source": [
    "list1 = [('Start_year',start_year,'','',''), \n",
    "         ('End_year',end_year,'','',''),\n",
    "         ('End year electrification rate target',end_electrification_rate_target,'','',''),\n",
    "         ('Intermediate target year', intermediate_year,'','',''),\n",
    "         ('Intermediate electrification rate target', intermediate_electrification_rate_target,'','',''),\n",
    "         ('Urban target tier', urban_target_tier, '', '', ''),\n",
    "         ('Rural target tier', rural_target_tier, '', '', ''),\n",
    "         ('Auto intensification distance', auto_intensification, '', '', 'Buffer distance (km) for automatic intensification if choosing prioritization 1'),\n",
    "         ('discount_rate',discount_rate,'','',''),\n",
    "         ('pop_start_year',pop_start_year,'','','the population in the base year (e.g. 2018)'),\n",
    "         ('pop_end_year',end_year_pop,'','','the projected population in the end year (e.g. 2030)'),\n",
    "         ('urban_ratio_start_year',urban_ratio_start_year,'','','the urban population population ratio in the base year (e.g. 2018)'),\n",
    "         ('urban_ratio_end_year',urban_ratio_end_year,'','','the urban population population ratio in the end year (e.g. 2030)'),\n",
    "         ('num_people_per_hh_urban',num_people_per_hh_urban,'','','the number of people per household expected in the end year (e.g. 2030)'),\n",
    "         ('num_people_per_hh_rural',num_people_per_hh_rural,'','','the number of people per household expected in the end year (e.g. 2030)'),\n",
    "         ('elec_ratio_start_year',grid_elec_ratio_start_year,'','','the electrification rate in the base year (e.g. 2018)'),\n",
    "         ('urban_elec_ratio',grid_urban_elec_ratio,'','','urban electrification rate in the base year (e.g. 2018)'),\n",
    "         ('rural_elec_ratio',grid_rural_elec_ratio,'','','rural electrification rate in the base year (e.g. 2018)'),\n",
    "         ('grid_generation_cost',grid_generation_cost,'','','This is the grid cost electricity USD/kWh as expected in the end year of the analysis'),\n",
    "         ('grid_power_plants_capital_cost',grid_power_plants_capital_cost,'','','The cost in USD/kW to for capacity upgrades of the grid-connected power plants'),\n",
    "         ('grid_losses',grid_losses,'','','The fraction of electricity lost in transmission and distribution (percentage)'),\n",
    "         ('base_to_peak',grid_calc.base_to_peak_load_ratio,'','','The ratio of base grid demand to peak demand (percentage)'),\n",
    "         ('existing_grid_cost_ratio',existing_grid_cost_ratio,'','','The additional cost per round of electrification (percentage)'),\n",
    "         ('diesel_price',diesel_price,'','','This is the diesel price in USD/liter as expected in the end year of the analysis'),\n",
    "         ('mg_hydro_capital_cost',mg_hydro_capital_cost,'','','Mini-grid Hydro capital cost (USD/kW) as expected in the years of the analysis'),\n",
    "         ('sa_pv_capital_cost_1',sa_pv_capital_cost_1,'','','Stand-alone PV capital cost (USD/kW) for household systems under 20 W'),\n",
    "         ('sa_pv_capital_cost_2',sa_pv_capital_cost_2,'','','Stand-alone PV capital cost (USD/kW) for household systems between 21-50 W'),\n",
    "         ('sa_pv_capital_cost_3',sa_pv_capital_cost_3,'','','Stand-alone PV capital cost (USD/kW) for household systems between 51-100 W'),\n",
    "         ('sa_pv_capital_cost_4',sa_pv_capital_cost_4,'','','Stand-alone PV capital cost (USD/kW) for household systems between 101-200 W'),\n",
    "         ('sa_pv_capital_cost_5',sa_pv_capital_cost_5,'','','Stand-alone PV capital cost (USD/kW) for household systems over 200 W'),\n",
    "         ('mv_line_cost',mv_line_cost,'','','Cost of MV lines in USD/km'),\n",
    "         ('lv_line_cost',lv_line_cost,'','','Cost of LV lines in USD/km'),\n",
    "         ('mv_line_capacity',mv_line_capacity,'','','Capacity of MV lines in kW/line'),\n",
    "         ('lv_line_capacity',lv_line_capacity,'','','Capacity of LV lines in kW/line'),\n",
    "         ('lv_line_max_length',lv_line_max_length,'','','Maximum length of LV lines (km)'),\n",
    "         ('hv_line_cost',hv_line_cost,'','','Cost of HV lines in USD/km'),\n",
    "         ('max_grid_extension_dist',mv_line_max_length,'','','Maximum distance that the grid may be extended by means of MV lines'),\n",
    "         #('annual_new_grid_connections_limit_intermediate', annual_new_grid_connections_limit_intermediate,'','','This is the maximum amount of new households that can be connected to the grid in one year (thousands)'),\n",
    "         ('annual_new_grid_connections_limit_end', annual_new_grid_connections_limit,'','','This is the maximum amount of new households that can be connected to the grid in one year (thousands)'),\n",
    "         ('grid_capacity_limit_end',annual_grid_cap_gen_limit,'','','This is the maximum generation capacity that can be added to the grid in one year (MW)'),\n",
    "         #('grid_capacity_limit_intermediate',annual_grid_cap_gen_limit_intermediate,'','','This is the maximum generation capacity that can be added to the grid in one year (MW)'),\n",
    "         ]\n",
    "labels = ['Variable','Value', 'Source', 'Comments', 'Description']\n",
    "df_variables = pd.DataFrame.from_records(list1, columns=labels)"
   ]
  },
  {
   "cell_type": "code",
   "execution_count": null,
   "metadata": {},
   "outputs": [],
   "source": [
    "messagebox.showinfo('OnSSET', 'Browse to the folder where you want to save the outputs')\n",
    "\n",
    "output_dir = filedialog.askdirectory()\n",
    "output_dir_variables = os.path.join(output_dir, '{}_Variables.csv'.format(scenario_name))\n",
    "output_dir_results = os.path.join(output_dir, '{}_Results.csv'.format(scenario_name))\n",
    "output_dir_summaries = os.path.join(output_dir, '{}_Summaries.csv'.format(scenario_name))"
   ]
  },
  {
   "cell_type": "code",
   "execution_count": null,
   "metadata": {},
   "outputs": [],
   "source": [
    "# Returning the result as a csv file\n",
    "onsseter.df.to_csv(output_dir_results, index=False)\n",
    "\n",
    "# Returning the summary as a csv file\n",
    "summary_table.to_csv(output_dir_summaries, index=True)\n",
    "\n",
    "# Returning the input variables as a csv file\n",
    "df_variables.to_csv(output_dir_variables, index=False)"
   ]
  },
  {
   "cell_type": "code",
   "execution_count": null,
   "metadata": {},
   "outputs": [],
   "source": [
    "for year in yearsofanalysis:\n",
    "    try:\n",
    "        with open(os.path.join(output_dir, 'new_mv_lines_{}_{}.geojson'.format(scenario_name, year)), 'w') as f:\n",
    "            geojson.dump(new_lines_geojson[year], f)\n",
    "        gdf = gpd.read_file(os.path.join(output_dir, 'new_mv_lines_{}_{}.geojson'.format(scenario_name, year)))\n",
    "        gdf = gdf.set_crs(3395, allow_override=True)\n",
    "        gdf = gdf.to_crs(4326)\n",
    "        gdf.to_file(os.path.join(output_dir, 'new_mv_lines_{}_{}.geojson'.format(scenario_name, year)))\n",
    "    except:\n",
    "        pass"
   ]
  },
  {
   "cell_type": "code",
   "execution_count": null,
   "metadata": {},
   "outputs": [],
   "source": []
  }
 ],
 "metadata": {
  "anaconda-cloud": {},
  "celltoolbar": "Raw Cell Format",
  "kernelspec": {
   "display_name": "Python 3",
   "language": "python",
   "name": "python3"
  },
  "language_info": {
   "codemirror_mode": {
    "name": "ipython",
    "version": 3
   },
   "file_extension": ".py",
   "mimetype": "text/x-python",
   "name": "python",
   "nbconvert_exporter": "python",
   "pygments_lexer": "ipython3",
   "version": "3.8.5"
  }
 },
 "nbformat": 4,
 "nbformat_minor": 4
}
